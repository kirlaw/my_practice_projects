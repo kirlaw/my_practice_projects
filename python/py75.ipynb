{
 "cells": [
  {
   "cell_type": "markdown",
   "id": "compressed-scratch",
   "metadata": {},
   "source": [
    "## 1 Hello World实例"
   ]
  },
  {
   "cell_type": "code",
   "execution_count": 1,
   "id": "acquired-campbell",
   "metadata": {},
   "outputs": [
    {
     "name": "stdout",
     "output_type": "stream",
     "text": [
      "hello world\n"
     ]
    }
   ],
   "source": [
    "print(\"hello world\")"
   ]
  },
  {
   "cell_type": "markdown",
   "id": "hollow-cuisine",
   "metadata": {},
   "source": [
    "## 2 数字求和"
   ]
  },
  {
   "cell_type": "code",
   "execution_count": 2,
   "id": "smoking-petroleum",
   "metadata": {},
   "outputs": [
    {
     "name": "stdout",
     "output_type": "stream",
     "text": [
      "输入第一个数：3\n",
      "输入第二个数：5\n",
      "8.0\n"
     ]
    }
   ],
   "source": [
    "a = input(\"输入第一个数：\")\n",
    "b = input(\"输入第二个数：\")\n",
    "# input()默认输入字符串\n",
    "print(float(a) + float(b))"
   ]
  },
  {
   "cell_type": "markdown",
   "id": "placed-cancer",
   "metadata": {},
   "source": [
    "## 3 平方根"
   ]
  },
  {
   "cell_type": "code",
   "execution_count": 3,
   "id": "broken-paintball",
   "metadata": {},
   "outputs": [
    {
     "name": "stdout",
     "output_type": "stream",
     "text": [
      "输入想求平方根的数：2\n",
      "1.4142135623730951\n"
     ]
    }
   ],
   "source": [
    "# **为求指数运算符\n",
    "a = float(input(\"输入想求平方根的数：\")) ** 0.5\n",
    "print(a)"
   ]
  },
  {
   "cell_type": "markdown",
   "id": "animated-cradle",
   "metadata": {},
   "source": [
    "## 4 二次方程"
   ]
  },
  {
   "cell_type": "code",
   "execution_count": 4,
   "id": "frequent-reader",
   "metadata": {},
   "outputs": [
    {
     "name": "stdout",
     "output_type": "stream",
     "text": [
      "输入二次项的系数：1\n",
      "输入一次项的系数：2\n",
      "输入常数项：1\n",
      "-1.0 -1.0\n"
     ]
    }
   ],
   "source": [
    "import math\n",
    "\n",
    "# 求ax^2+bx+c=0的解\n",
    "a = float(input(\"输入二次项的系数：\"))\n",
    "b = float(input(\"输入一次项的系数：\"))\n",
    "c = float(input(\"输入常数项：\"))\n",
    "if (b ** 2 - 4*a*c) < 0:\n",
    "    print(\"无解\")\n",
    "else:\n",
    "    x1 = (-b + math.sqrt(b ** 2 - 4*a*c))/(2*a)\n",
    "    x2 = (-b - math.sqrt(b ** 2 - 4*a*c))/(2*a)\n",
    "    print(x1, x2)"
   ]
  },
  {
   "cell_type": "markdown",
   "id": "alone-discretion",
   "metadata": {},
   "source": [
    "## 5 计算三角形的面积"
   ]
  },
  {
   "cell_type": "code",
   "execution_count": 5,
   "id": "alien-opposition",
   "metadata": {},
   "outputs": [
    {
     "name": "stdout",
     "output_type": "stream",
     "text": [
      "输入第一个边长：3\n",
      "输入第二个边长：4\n",
      "输入第三个边长：5\n",
      "6.0\n"
     ]
    }
   ],
   "source": [
    "# 用边长求三角形面积公式 p=(a+b+c)/2\n",
    "# s=sqrt(p(p-a)(p-b)(p-c))\n",
    "\n",
    "import math\n",
    "\n",
    "a = float(input(\"输入第一个边长：\"))\n",
    "b = float(input(\"输入第二个边长：\"))\n",
    "c = float(input(\"输入第三个边长：\"))\n",
    "p = (a+b+c)/2\n",
    "s = math.sqrt(p*(p-a)*(p-b)*(p-c))\n",
    "print(s)"
   ]
  },
  {
   "cell_type": "markdown",
   "id": "innovative-conjunction",
   "metadata": {},
   "source": [
    "## 6 计算圆的面积"
   ]
  },
  {
   "cell_type": "code",
   "execution_count": 6,
   "id": "gross-bride",
   "metadata": {},
   "outputs": [
    {
     "name": "stdout",
     "output_type": "stream",
     "text": [
      "输入圆的半径：3\n",
      "28.274333882308138\n"
     ]
    }
   ],
   "source": [
    "import math\n",
    "\n",
    "r = float(input(\"输入圆的半径：\"))\n",
    "s = math.pi*r*r\n",
    "print(s)"
   ]
  },
  {
   "cell_type": "markdown",
   "id": "imported-marking",
   "metadata": {},
   "source": [
    "## 7 随机数生成"
   ]
  },
  {
   "cell_type": "code",
   "execution_count": 7,
   "id": "vital-stress",
   "metadata": {},
   "outputs": [
    {
     "name": "stdout",
     "output_type": "stream",
     "text": [
      "输入随机数最小值：2\n",
      "输入随机数最大值：12\n",
      "10\n"
     ]
    }
   ],
   "source": [
    "# 利用随机数模块\n",
    "import random\n",
    "\n",
    "a = int(input(\"输入随机数最小值：\"))\n",
    "b = int(input(\"输入随机数最大值：\"))\n",
    "print(random.randint(a,b))"
   ]
  },
  {
   "cell_type": "markdown",
   "id": "civil-serum",
   "metadata": {},
   "source": [
    "## 8 摄氏转华氏"
   ]
  },
  {
   "cell_type": "code",
   "execution_count": 8,
   "id": "earned-detail",
   "metadata": {},
   "outputs": [
    {
     "name": "stdout",
     "output_type": "stream",
     "text": [
      "输入摄氏度：34\n",
      "93.2\n"
     ]
    }
   ],
   "source": [
    "# 摄氏温度转华氏温度的公式为celsius*1.8=fahrenheit-32\n",
    "\n",
    "c = float(input(\"输入摄氏度：\"))\n",
    "f = c*1.8 + 32\n",
    "print(f)"
   ]
  },
  {
   "cell_type": "markdown",
   "id": "speaking-negotiation",
   "metadata": {},
   "source": [
    "## 9 交换变量"
   ]
  },
  {
   "cell_type": "code",
   "execution_count": 9,
   "id": "reported-luther",
   "metadata": {},
   "outputs": [
    {
     "name": "stdout",
     "output_type": "stream",
     "text": [
      "输入第一个数：3\n",
      "输入第二个数：4\n",
      "4.0 3.0\n"
     ]
    }
   ],
   "source": [
    "a = float(input(\"输入第一个数：\"))\n",
    "b = float(input(\"输入第二个数：\"))\n",
    "temp = a\n",
    "a = b\n",
    "b = temp\n",
    "print(a, b)"
   ]
  },
  {
   "cell_type": "markdown",
   "id": "juvenile-delhi",
   "metadata": {},
   "source": [
    "## 10 if语句"
   ]
  },
  {
   "cell_type": "code",
   "execution_count": 10,
   "id": "gorgeous-daughter",
   "metadata": {},
   "outputs": [
    {
     "name": "stdout",
     "output_type": "stream",
     "text": [
      "输入一个正数：5\n",
      "是正数\n"
     ]
    }
   ],
   "source": [
    "a = float(input(\"输入一个正数：\"))\n",
    "if a > 0:\n",
    "    print(\"是正数\")\n",
    "else:\n",
    "    print(\"输入错误\")"
   ]
  },
  {
   "cell_type": "markdown",
   "id": "stylish-dover",
   "metadata": {},
   "source": [
    "## 11 判断字符串是否为数字"
   ]
  },
  {
   "cell_type": "code",
   "execution_count": 11,
   "id": "flying-eligibility",
   "metadata": {},
   "outputs": [
    {
     "name": "stdout",
     "output_type": "stream",
     "text": [
      "输入一个字符串：3456\n",
      "True\n"
     ]
    }
   ],
   "source": [
    "s = input(\"输入一个字符串：\")\n",
    "# isdigit()方法可以检测字符串是否只由数字组成\n",
    "print(s.isdigit())"
   ]
  },
  {
   "cell_type": "markdown",
   "id": "smart-percentage",
   "metadata": {},
   "source": [
    "## 12 判断奇数偶数"
   ]
  },
  {
   "cell_type": "code",
   "execution_count": 12,
   "id": "oriental-folks",
   "metadata": {},
   "outputs": [
    {
     "name": "stdout",
     "output_type": "stream",
     "text": [
      "输入一个整数：9\n",
      "是奇数\n"
     ]
    }
   ],
   "source": [
    "a = int(input(\"输入一个整数：\"))\n",
    "if a%2 == 0:\n",
    "    print(\"是偶数\")\n",
    "else:\n",
    "    print(\"是奇数\")"
   ]
  },
  {
   "cell_type": "markdown",
   "id": "native-spare",
   "metadata": {},
   "source": [
    "## 13 判断闰年"
   ]
  },
  {
   "cell_type": "code",
   "execution_count": 13,
   "id": "monetary-guarantee",
   "metadata": {},
   "outputs": [
    {
     "name": "stdout",
     "output_type": "stream",
     "text": [
      "输入年份：2020\n",
      "是闰年\n"
     ]
    }
   ],
   "source": [
    "# 公元年分为4的倍数但非100的倍数，或公元年分为400的倍数为闰年。\n",
    "\n",
    "year = int(input(\"输入年份：\"))\n",
    "if (year%4 ==0 and year%100!=0) or (year%400 == 0):\n",
    "    print(\"是闰年\")\n",
    "else:\n",
    "    print(\"是平年\")"
   ]
  },
  {
   "cell_type": "markdown",
   "id": "surprised-rider",
   "metadata": {},
   "source": [
    "## 14 获取最大值"
   ]
  },
  {
   "cell_type": "code",
   "execution_count": 14,
   "id": "welcome-substitute",
   "metadata": {},
   "outputs": [
    {
     "name": "stdout",
     "output_type": "stream",
     "text": [
      "x:4\n",
      "y:1\n",
      "z:5\n",
      "最大值为 5.0\n"
     ]
    }
   ],
   "source": [
    "x = float(input(\"x:\"))\n",
    "y = float(input(\"y:\"))\n",
    "z = float(input(\"z:\"))\n",
    "# max()方法返回给定参数的最大值\n",
    "print(\"最大值为\", max(x,y,z))"
   ]
  },
  {
   "cell_type": "markdown",
   "id": "polar-bermuda",
   "metadata": {},
   "source": [
    "## 15 质数判断"
   ]
  },
  {
   "cell_type": "code",
   "execution_count": 15,
   "id": "pending-cambodia",
   "metadata": {},
   "outputs": [
    {
     "name": "stdout",
     "output_type": "stream",
     "text": [
      "输入一个整数：17\n",
      "是质数\n"
     ]
    }
   ],
   "source": [
    "a = int(input(\"输入一个整数：\"))\n",
    "i = a-1\n",
    "flag = 1\n",
    "while i>1:\n",
    "    if a%i == 0:\n",
    "        flag = 0\n",
    "        print(\"不是质数\")\n",
    "        break\n",
    "    i-=1\n",
    "if flag == 1:\n",
    "    print(\"是质数\")"
   ]
  },
  {
   "cell_type": "markdown",
   "id": "acknowledged-addition",
   "metadata": {},
   "source": [
    "## 16 输出指定范围内的素数"
   ]
  },
  {
   "cell_type": "code",
   "execution_count": 16,
   "id": "embedded-reply",
   "metadata": {},
   "outputs": [
    {
     "name": "stdout",
     "output_type": "stream",
     "text": [
      "输入区间最小值：1\n",
      "输入区间最大值：12\n",
      "1\n",
      "2\n",
      "3\n",
      "5\n",
      "7\n",
      "11\n"
     ]
    }
   ],
   "source": [
    "# 1是素数，但1不是质数\n",
    "\n",
    "a = int(input(\"输入区间最小值：\"))\n",
    "b = int(input(\"输入区间最大值：\"))\n",
    "for i in range(a, b+1):\n",
    "    j = i - 1\n",
    "    flag = 1\n",
    "    while j > 1:\n",
    "        if i % j == 0:\n",
    "            flag = 0\n",
    "\n",
    "            break\n",
    "        j -= 1\n",
    "    if flag == 1:\n",
    "        print(i)"
   ]
  },
  {
   "cell_type": "markdown",
   "id": "humanitarian-cocktail",
   "metadata": {},
   "source": [
    "## 17 阶乘实例"
   ]
  },
  {
   "cell_type": "code",
   "execution_count": 17,
   "id": "steady-riverside",
   "metadata": {},
   "outputs": [
    {
     "name": "stdout",
     "output_type": "stream",
     "text": [
      "输入一个整数：5\n",
      "阶乘是：120\n"
     ]
    }
   ],
   "source": [
    "a = int(input(\"输入一个整数：\"))\n",
    "b = 1\n",
    "while a > 1:\n",
    "    b = a*b\n",
    "    a -= 1\n",
    "print('阶乘是：%d' %b)"
   ]
  },
  {
   "cell_type": "markdown",
   "id": "efficient-wealth",
   "metadata": {},
   "source": [
    "## 18 九九乘法表"
   ]
  },
  {
   "cell_type": "code",
   "execution_count": 18,
   "id": "literary-cover",
   "metadata": {},
   "outputs": [
    {
     "name": "stdout",
     "output_type": "stream",
     "text": [
      "1*1=1 \n",
      "1*2=2 2*2=4 \n",
      "1*3=3 2*3=6 3*3=9 \n",
      "1*4=4 2*4=8 3*4=12 4*4=16 \n",
      "1*5=5 2*5=10 3*5=15 4*5=20 5*5=25 \n",
      "1*6=6 2*6=12 3*6=18 4*6=24 5*6=30 6*6=36 \n",
      "1*7=7 2*7=14 3*7=21 4*7=28 5*7=35 6*7=42 7*7=49 \n",
      "1*8=8 2*8=16 3*8=24 4*8=32 5*8=40 6*8=48 7*8=56 8*8=64 \n",
      "1*9=9 2*9=18 3*9=27 4*9=36 5*9=45 6*9=54 7*9=63 8*9=72 9*9=81 \n"
     ]
    }
   ],
   "source": [
    "for i in range(1,10):\n",
    "    for j in range(1,i+1):\n",
    "        print(\"%d*%d=%d\" %(j,i,j*i),end=\" \")\n",
    "    print()"
   ]
  },
  {
   "cell_type": "markdown",
   "id": "european-transcript",
   "metadata": {},
   "source": [
    "## 19 斐波那契数列"
   ]
  },
  {
   "cell_type": "code",
   "execution_count": 19,
   "id": "authentic-pregnancy",
   "metadata": {},
   "outputs": [
    {
     "name": "stdout",
     "output_type": "stream",
     "text": [
      "输入斐波那契数列项数：5\n",
      "0 1 1 2 3 "
     ]
    }
   ],
   "source": [
    "a = int(input(\"输入斐波那契数列项数：\"))\n",
    "i = 0  # 第一项\n",
    "j = 1  # 第二项\n",
    "if a==1:\n",
    "    print(i)\n",
    "elif a==2:\n",
    "    print(i, end=\" \")\n",
    "    print(j)\n",
    "else:\n",
    "    print(i, end=\" \")\n",
    "    print(j, end=\" \")\n",
    "    n = 3\n",
    "    while n <= a:\n",
    "        k = i + j\n",
    "        print(k, end=\" \")\n",
    "        i = j\n",
    "        j = k\n",
    "        n+=1"
   ]
  },
  {
   "cell_type": "markdown",
   "id": "sharing-rover",
   "metadata": {},
   "source": [
    "## 20 阿姆斯特朗数"
   ]
  },
  {
   "cell_type": "code",
   "execution_count": 20,
   "id": "vocal-medicine",
   "metadata": {},
   "outputs": [
    {
     "name": "stdout",
     "output_type": "stream",
     "text": [
      "输入一个整数：153\n",
      "153 是阿姆斯特朗数\n"
     ]
    }
   ],
   "source": [
    "# 如果一个n位正整数等于其各位数字的n次方之和,则称该数为阿姆斯特朗数。 例如1^3 + 5^3 + 3^3 = 153\n",
    "\n",
    "num = int(input(\"输入一个整数：\"))\n",
    "s = len(str(num))\n",
    "n = 0\n",
    "temp = num\n",
    "while temp/10!=0:\n",
    "    d = temp%10\n",
    "    n = n + d**s\n",
    "    temp//=10\n",
    "\n",
    "if n == num:\n",
    "    print(n,\"是阿姆斯特朗数\")\n",
    "else:\n",
    "    print(n,\"不是阿姆斯特朗数\")"
   ]
  },
  {
   "cell_type": "markdown",
   "id": "endangered-listing",
   "metadata": {},
   "source": [
    "## 21 十进制转二进制八进制十六进制"
   ]
  },
  {
   "cell_type": "code",
   "execution_count": 21,
   "id": "preliminary-buyer",
   "metadata": {},
   "outputs": [
    {
     "name": "stdout",
     "output_type": "stream",
     "text": [
      "输入一个整数：14\n",
      "二进制为：\n",
      "1110 0b1110\n",
      "八进制为:\n",
      "16 0o16\n",
      "十六进制为：\n",
      "E 0xe\n"
     ]
    }
   ],
   "source": [
    "a = int(input(\"输入一个整数：\"))\n",
    "# 计算二进制\n",
    "temp = a\n",
    "l = []\n",
    "while temp!=0:\n",
    "    d = temp%2\n",
    "    l.insert(0, d)\n",
    "    temp//=2\n",
    "print(\"二进制为：\")\n",
    "for i in l:\n",
    "    print(i, end=\"\")\n",
    "print(end=\" \")\n",
    "print(bin(a))\n",
    "\n",
    "# 计算八进制\n",
    "temp = a\n",
    "l = []\n",
    "while temp!=0:\n",
    "    d = temp%8\n",
    "    l.insert(0, d)\n",
    "    temp//=8\n",
    "print(\"八进制为:\")\n",
    "for i in l:\n",
    "    print(i, end=\"\")\n",
    "print(end=\" \")\n",
    "print(oct(a))\n",
    "\n",
    "# 计算十六进制\n",
    "temp = a\n",
    "l = []\n",
    "while temp!=0:\n",
    "    d = temp%16\n",
    "    '''\n",
    "    if d==10:\n",
    "        l.insert(0,'A')\n",
    "    elif d==11:\n",
    "        l.insert(0,'B')\n",
    "    elif d==12:\n",
    "        l.insert(0,'C')\n",
    "    elif d==13:\n",
    "        l.insert(0,'D')\n",
    "    elif d==14:\n",
    "        l.insert(0,'E')\n",
    "    elif d==15:\n",
    "        l.insert(0,'F')\n",
    "    else:\n",
    "        l.insert(0,d)\n",
    "    '''\n",
    "    if d>=10:\n",
    "        l.insert(0, chr(d+55))\n",
    "    else:\n",
    "        l.insert(0, d)\n",
    "    temp//=16\n",
    "print(\"十六进制为：\")\n",
    "for i in l:\n",
    "    print(i, end='')\n",
    "print(end=\" \")\n",
    "print(hex(a))"
   ]
  },
  {
   "cell_type": "markdown",
   "id": "statewide-ozone",
   "metadata": {},
   "source": [
    "## 22 ASCII码与字符串相互转换"
   ]
  },
  {
   "cell_type": "code",
   "execution_count": 22,
   "id": "amazing-elite",
   "metadata": {},
   "outputs": [
    {
     "name": "stdout",
     "output_type": "stream",
     "text": [
      "输入一个ASCII码：56\n",
      "输入一个字符：a\n",
      "56 对应的字符为： 8\n",
      "a 对应的ASCII码为： 97\n"
     ]
    }
   ],
   "source": [
    "a = int(input('输入一个ASCII码：'))\n",
    "c = input('输入一个字符：')\n",
    "print(a,'对应的字符为：', chr(a))\n",
    "print(c,'对应的ASCII码为：', ord(c))"
   ]
  },
  {
   "cell_type": "markdown",
   "id": "established-stupid",
   "metadata": {},
   "source": [
    "## 23 最大公约数"
   ]
  },
  {
   "cell_type": "code",
   "execution_count": 23,
   "id": "needed-shell",
   "metadata": {},
   "outputs": [
    {
     "name": "stdout",
     "output_type": "stream",
     "text": [
      "输入第一个整数：4\n",
      "输入第二个整数：20\n",
      "最大公约数为 4\n"
     ]
    }
   ],
   "source": [
    "n1 = int(input(\"输入第一个整数：\"))\n",
    "n2 = int(input(\"输入第二个整数：\"))\n",
    "for i in range(2, min(n1, n2)+1):\n",
    "    if n1%i==0 and n2%i==0:\n",
    "        m=i\n",
    "print(\"最大公约数为\", m)"
   ]
  },
  {
   "cell_type": "markdown",
   "id": "interpreted-westminster",
   "metadata": {},
   "source": [
    "## 24 最小公倍数"
   ]
  },
  {
   "cell_type": "code",
   "execution_count": 24,
   "id": "removed-recipe",
   "metadata": {},
   "outputs": [
    {
     "name": "stdout",
     "output_type": "stream",
     "text": [
      "输入第一个整数：10\n",
      "输入第二个整数：50\n",
      "最小公倍数为 50\n"
     ]
    }
   ],
   "source": [
    "n1 = int(input(\"输入第一个整数：\"))\n",
    "n2 = int(input(\"输入第二个整数：\"))\n",
    "i = max(n1, n2)\n",
    "while i%n1!=0 or i%n2!=0:\n",
    "    i+=1\n",
    "print(\"最小公倍数为\", i)"
   ]
  },
  {
   "cell_type": "markdown",
   "id": "completed-packing",
   "metadata": {},
   "source": [
    "## 25 简单计算器实现"
   ]
  },
  {
   "cell_type": "code",
   "execution_count": 25,
   "id": "alpha-transmission",
   "metadata": {},
   "outputs": [
    {
     "name": "stdout",
     "output_type": "stream",
     "text": [
      "输入算式：2+3\n",
      "2+3 = 5\n"
     ]
    }
   ],
   "source": [
    "l = input(\"输入算式：\")\n",
    "if l[1]=='+':\n",
    "    s = int(l[0])+int(l[2])\n",
    "elif l[1]=='-':\n",
    "    s = int(l[0])-int(l[2])\n",
    "elif l[1]=='*':\n",
    "    s = int(l[0])*int(l[2])\n",
    "else:\n",
    "    s = int(l[0])/int(l[2])\n",
    "print(l, \"=\", s)"
   ]
  },
  {
   "cell_type": "markdown",
   "id": "excess-scholar",
   "metadata": {},
   "source": [
    "## 26 生成日历"
   ]
  },
  {
   "cell_type": "code",
   "execution_count": 26,
   "id": "imported-update",
   "metadata": {},
   "outputs": [
    {
     "name": "stdout",
     "output_type": "stream",
     "text": [
      "输入年份：2021\n",
      "输入月份：2\n",
      "   February 2021\n",
      "Mo Tu We Th Fr Sa Su\n",
      " 1  2  3  4  5  6  7\n",
      " 8  9 10 11 12 13 14\n",
      "15 16 17 18 19 20 21\n",
      "22 23 24 25 26 27 28\n",
      "\n"
     ]
    }
   ],
   "source": [
    "import calendar\n",
    "\n",
    "y = int(input(\"输入年份：\"))\n",
    "m = int(input(\"输入月份：\"))\n",
    "print(calendar.month(y, m))"
   ]
  },
  {
   "cell_type": "markdown",
   "id": "listed-thumbnail",
   "metadata": {},
   "source": [
    "## 27 使用递归的斐波那契数列"
   ]
  },
  {
   "cell_type": "code",
   "execution_count": 27,
   "id": "twenty-preparation",
   "metadata": {},
   "outputs": [
    {
     "name": "stdout",
     "output_type": "stream",
     "text": [
      "输入斐波那契数列位数：5\n",
      "0 1 1 2 3 "
     ]
    }
   ],
   "source": [
    "def fib(n):\n",
    "    if n<=1:\n",
    "        return n\n",
    "    else:\n",
    "        return (fib(n-1)+fib(n-2))\n",
    "\n",
    "n = int(input(\"输入斐波那契数列位数：\"))\n",
    "for i in range(n):\n",
    "    print(fib(i), end=\" \")"
   ]
  },
  {
   "cell_type": "markdown",
   "id": "divided-behavior",
   "metadata": {},
   "source": [
    "## 28 文件IO"
   ]
  },
  {
   "cell_type": "code",
   "execution_count": 28,
   "id": "metropolitan-mason",
   "metadata": {},
   "outputs": [
    {
     "name": "stdout",
     "output_type": "stream",
     "text": [
      "hello,这是一个新文件\n"
     ]
    }
   ],
   "source": [
    "# 写文件\n",
    "# with open方法可以自动关闭文件\n",
    "with open(\"text.txt\", mode='w')as f:\n",
    "    f.write(\"hello,这是一个新文件\")\n",
    "\n",
    "#读文件\n",
    "with open(\"text.txt\", mode='r')as f:\n",
    "    text = f.read()\n",
    "print(text)"
   ]
  },
  {
   "cell_type": "markdown",
   "id": "built-sheffield",
   "metadata": {},
   "source": [
    "## 29 字符串判断"
   ]
  },
  {
   "cell_type": "code",
   "execution_count": 29,
   "id": "mounted-denial",
   "metadata": {},
   "outputs": [
    {
     "name": "stdout",
     "output_type": "stream",
     "text": [
      "输入一个字符串：how old are u\n",
      "字符串是否为数字： False\n",
      "字符串是否为字母： False\n",
      "字符串是否都是大写字母： False\n",
      "字符串是否都是小写字母： True\n",
      "字符串是否都是字母或数字： False\n",
      "字符串单词首字母是否都大写： False\n",
      "字符串是否都由空白字符组成： False\n"
     ]
    }
   ],
   "source": [
    "s = input(\"输入一个字符串：\")\n",
    "print(\"字符串是否为数字：\", s.isdigit())\n",
    "print(\"字符串是否为字母：\", s.isalpha())\n",
    "print(\"字符串是否都是大写字母：\", s.isupper())\n",
    "print(\"字符串是否都是小写字母：\", s.islower())\n",
    "print(\"字符串是否都是字母或数字：\", s.isalnum())\n",
    "print(\"字符串单词首字母是否都大写：\", s.istitle())\n",
    "print(\"字符串是否都由空白字符组成：\", s.isspace())"
   ]
  },
  {
   "cell_type": "markdown",
   "id": "close-sandwich",
   "metadata": {},
   "source": [
    "## 30 字符串大小写转换"
   ]
  },
  {
   "cell_type": "code",
   "execution_count": 30,
   "id": "assumed-metro",
   "metadata": {},
   "outputs": [
    {
     "name": "stdout",
     "output_type": "stream",
     "text": [
      "输入一个字符串：How are u\n",
      "HOW ARE U\n",
      "how are u\n",
      "How are u\n",
      "How Are U\n"
     ]
    }
   ],
   "source": [
    "s = input(\"输入一个字符串：\")\n",
    "print(s.upper())\n",
    "print(s.lower())\n",
    "print(s.capitalize())\n",
    "print(s.title())"
   ]
  },
  {
   "cell_type": "markdown",
   "id": "bigger-champagne",
   "metadata": {},
   "source": [
    "## 31 计算每个月天数"
   ]
  },
  {
   "cell_type": "code",
   "execution_count": 31,
   "id": "coated-holiday",
   "metadata": {},
   "outputs": [
    {
     "name": "stdout",
     "output_type": "stream",
     "text": [
      "输入年份：2021\n",
      "输入月份：1\n",
      "(4, 31)\n"
     ]
    }
   ],
   "source": [
    "import calendar\n",
    "\n",
    "y = int(input(\"输入年份：\"))\n",
    "m = int(input(\"输入月份：\"))\n",
    "print(calendar.monthrange(y,m)) # 输出的第一个元素是所查月份的第一天对应的是星期几（0-6），第二个元素是这个月的天数"
   ]
  },
  {
   "cell_type": "markdown",
   "id": "vanilla-arthritis",
   "metadata": {},
   "source": [
    "## 32 获取昨天日期"
   ]
  },
  {
   "cell_type": "code",
   "execution_count": 32,
   "id": "interstate-tomato",
   "metadata": {},
   "outputs": [
    {
     "name": "stdout",
     "output_type": "stream",
     "text": [
      "2021-01-28\n"
     ]
    }
   ],
   "source": [
    "import datetime\n",
    "\n",
    "def getYesterday():\n",
    "    today = datetime.date.today()\n",
    "    oneday = datetime.timedelta(days=1) \n",
    "    yesterday = today-oneday\n",
    "    return yesterday\n",
    "    \n",
    "print(getYesterday())"
   ]
  },
  {
   "cell_type": "markdown",
   "id": "choice-walnut",
   "metadata": {},
   "source": [
    "## 33 list常用操作"
   ]
  },
  {
   "cell_type": "code",
   "execution_count": 33,
   "id": "billion-enclosure",
   "metadata": {},
   "outputs": [
    {
     "name": "stdout",
     "output_type": "stream",
     "text": [
      "[1, 2, 3, 4]\n",
      "1 2 3 4 \n",
      "输出第一个元素： 1\n",
      "输出倒数第一个元素: 4\n",
      "[2, 3]\n",
      "[1, 3, 4]\n",
      "[1, 5, 3, 4]\n"
     ]
    }
   ],
   "source": [
    "l = [1,2,3,4]\n",
    "print(l)\n",
    "\n",
    "# 遍历列表里的数据\n",
    "for element in l:\n",
    "    print(element,end=\" \")\n",
    "print()\n",
    "\n",
    "# 输出单个元素\n",
    "print(\"输出第一个元素：\", l[0])\n",
    "\n",
    "# 负数代表倒数第N个元素\n",
    "print(\"输出倒数第一个元素:\", l[-1])\n",
    "\n",
    "# 分片（前闭后开）\n",
    "print(l[1:3])\n",
    "\n",
    "# 删除列表元素\n",
    "del l[1]\n",
    "print(l)\n",
    "\n",
    "#插入列表(位置，新元素)\n",
    "l.insert(1,5)\n",
    "print(l)   "
   ]
  },
  {
   "cell_type": "markdown",
   "id": "biological-popularity",
   "metadata": {},
   "source": [
    "## 34 约瑟夫生者死者小游戏"
   ]
  },
  {
   "cell_type": "code",
   "execution_count": 34,
   "id": "lined-spirit",
   "metadata": {},
   "outputs": [
    {
     "name": "stdout",
     "output_type": "stream",
     "text": [
      "9 号下船了\n",
      "18 号下船了\n",
      "27 号下船了\n",
      "6 号下船了\n",
      "16 号下船了\n",
      "26 号下船了\n",
      "7 号下船了\n",
      "19 号下船了\n",
      "30 号下船了\n",
      "12 号下船了\n",
      "24 号下船了\n",
      "8 号下船了\n",
      "22 号下船了\n",
      "5 号下船了\n",
      "23 号下船了\n"
     ]
    }
   ],
   "source": [
    "'''\n",
    "30 个人在一条船上，超载，需要 15 人下船。\n",
    "\n",
    "于是人们排成一队，排队的位置即为他们的编号。\n",
    "\n",
    "报数，从 1 开始，数到 9 的人下船。\n",
    "\n",
    "如此循环，直到船上仅剩 15 人为止，问都有哪些编号的人下船了呢？\n",
    "'''\n",
    "a = {}\n",
    "for j in range(31):\n",
    "    a[j] = 0\n",
    "i = 0\n",
    "n = 0 #计数\n",
    "while(i<15):\n",
    "    for k in range(1,31):\n",
    "        if a[k]!=1:\n",
    "            n+=1\n",
    "        if n==9:\n",
    "            print(k,\"号下船了\")\n",
    "            a[k]=1\n",
    "            i+=1\n",
    "            n = 0    "
   ]
  },
  {
   "cell_type": "markdown",
   "id": "gothic-range",
   "metadata": {},
   "source": [
    "## 35 实现秒表功能"
   ]
  },
  {
   "cell_type": "code",
   "execution_count": 35,
   "id": "popular-rental",
   "metadata": {},
   "outputs": [
    {
     "name": "stdout",
     "output_type": "stream",
     "text": [
      "按下回车开始计时，按下 Ctrl + C 停止计时。\n",
      "\n",
      "开始\n",
      "结束:  23.0 秒\n",
      "总共的时间为: 24.05 secs\n"
     ]
    }
   ],
   "source": [
    "import time\n",
    "\n",
    "print('按下回车开始计时，按下 Ctrl + C 停止计时。')\n",
    "while True:\n",
    "    \n",
    "    input(\"\") \n",
    "    starttime = time.time()\n",
    "    print('开始')\n",
    "    try:\n",
    "        while True:\n",
    "            print('计时: ', round(time.time() - starttime, 0), '秒', end=\"\\r\")\n",
    "            time.sleep(1)\n",
    "    except KeyboardInterrupt:\n",
    "        print('结束')\n",
    "        endtime = time.time()\n",
    "        print('总共的时间为:', round(endtime - starttime, 2),'secs')\n",
    "        break\n"
   ]
  },
  {
   "cell_type": "markdown",
   "id": "applicable-notice",
   "metadata": {},
   "source": [
    "## 36 计算n个自然数的立方和"
   ]
  },
  {
   "cell_type": "code",
   "execution_count": 36,
   "id": "sitting-deputy",
   "metadata": {},
   "outputs": [
    {
     "name": "stdout",
     "output_type": "stream",
     "text": [
      "输入想计算的自然数的个数：5\n",
      "225\n"
     ]
    }
   ],
   "source": [
    "n = int(input(\"输入想计算的自然数的个数：\"))\n",
    "sum = 0\n",
    "for i in range(1,n+1):\n",
    "    sum += i ** 3\n",
    "print(sum)"
   ]
  },
  {
   "cell_type": "markdown",
   "id": "passing-criticism",
   "metadata": {},
   "source": [
    "## 37 计算数组元素之和"
   ]
  },
  {
   "cell_type": "code",
   "execution_count": 37,
   "id": "respiratory-weight",
   "metadata": {},
   "outputs": [
    {
     "name": "stdout",
     "output_type": "stream",
     "text": [
      "输入数组元素：1 2 4 5\n",
      "12\n"
     ]
    }
   ],
   "source": [
    "a = input(\"输入数组元素：\")\n",
    "num = [int(n) for n in a.split()]\n",
    "sum = 0\n",
    "for i in num:\n",
    "    sum+=i\n",
    "print(sum)"
   ]
  },
  {
   "cell_type": "markdown",
   "id": "behind-minister",
   "metadata": {},
   "source": [
    "## 38 数组翻转指定个数的元素"
   ]
  },
  {
   "cell_type": "code",
   "execution_count": 38,
   "id": "seven-kuwait",
   "metadata": {},
   "outputs": [
    {
     "name": "stdout",
     "output_type": "stream",
     "text": [
      "输入数组元素：1 2 3 4 5\n",
      "输入要翻转的元素的个数：3\n",
      "4 5 1 2 3 "
     ]
    }
   ],
   "source": [
    "a = input(\"输入数组元素：\")\n",
    "num = [int(n) for n in a.split()]\n",
    "b = int(input(\"输入要翻转的元素的个数：\"))\n",
    "l = len(num)\n",
    "for i in range(b,l):\n",
    "    print(num[i],end=\" \")\n",
    "for j in range(0,b):\n",
    "    print(num[j],end=\" \")"
   ]
  },
  {
   "cell_type": "markdown",
   "id": "assumed-sample",
   "metadata": {},
   "source": [
    "## 39 将列表中的头尾两个元素对调"
   ]
  },
  {
   "cell_type": "code",
   "execution_count": 39,
   "id": "affecting-athens",
   "metadata": {},
   "outputs": [
    {
     "name": "stdout",
     "output_type": "stream",
     "text": [
      "输入列表：1 2 3 4 5\n",
      "[5, 2, 3, 4, 1]\n"
     ]
    }
   ],
   "source": [
    "a = input(\"输入列表：\")\n",
    "l = [int(n) for n in a.split()]\n",
    "length = len(l)\n",
    "temp = l[0]\n",
    "l[0] = l[length-1]\n",
    "l[length-1] = temp\n",
    "print(l)"
   ]
  },
  {
   "cell_type": "markdown",
   "id": "perceived-surname",
   "metadata": {},
   "source": [
    "## 40 将列表中的指定位置的两个元素对调"
   ]
  },
  {
   "cell_type": "code",
   "execution_count": 40,
   "id": "elder-plate",
   "metadata": {},
   "outputs": [
    {
     "name": "stdout",
     "output_type": "stream",
     "text": [
      "输入列表：1 2 3 4 5 6\n",
      "输入想对调位置的元素1：2\n",
      "输入想对调位置的元素2：3\n",
      "[1, 2, 4, 3, 5, 6]\n"
     ]
    }
   ],
   "source": [
    "a = input(\"输入列表：\")\n",
    "l = [int(n) for n in a.split()]\n",
    "p1 = int(input(\"输入想对调位置的元素1：\"))\n",
    "p2 = int(input(\"输入想对调位置的元素2：\"))\n",
    "temp = l[p1]\n",
    "l[p1] = l[p2]\n",
    "l[p2] = temp\n",
    "print(l)"
   ]
  },
  {
   "cell_type": "markdown",
   "id": "proper-sitting",
   "metadata": {},
   "source": [
    "## 41 翻转列表"
   ]
  },
  {
   "cell_type": "code",
   "execution_count": 41,
   "id": "meaning-thing",
   "metadata": {},
   "outputs": [
    {
     "name": "stdout",
     "output_type": "stream",
     "text": [
      "输入列表：1 2 3 4 5 6\n",
      "[6, 5, 4, 3, 2, 1]\n"
     ]
    }
   ],
   "source": [
    "a = input(\"输入列表：\")\n",
    "l = [int(n) for n in a.split()]\n",
    "print(l[::-1])"
   ]
  },
  {
   "cell_type": "markdown",
   "id": "electric-coating",
   "metadata": {},
   "source": [
    "## 42 判断元素是否在列表中存在"
   ]
  },
  {
   "cell_type": "code",
   "execution_count": 42,
   "id": "changed-complaint",
   "metadata": {},
   "outputs": [
    {
     "name": "stdout",
     "output_type": "stream",
     "text": [
      "输入列表：1 2 3 4 5 6\n",
      "输入要找的元素：3\n",
      "存在\n",
      "存在\n"
     ]
    }
   ],
   "source": [
    "a = input(\"输入列表：\")\n",
    "l = [int(n) for n in a.split()]\n",
    "i = int(input(\"输入要找的元素：\"))\n",
    "if (i in l):\n",
    "    print(\"存在\")\n",
    "if l.count(i):\n",
    "    print(\"存在\")"
   ]
  },
  {
   "cell_type": "markdown",
   "id": "latest-consumption",
   "metadata": {},
   "source": [
    "## 43 清空列表"
   ]
  },
  {
   "cell_type": "code",
   "execution_count": 43,
   "id": "directed-emergency",
   "metadata": {},
   "outputs": [
    {
     "name": "stdout",
     "output_type": "stream",
     "text": [
      "输入列表：1 2 3 4 5 6\n",
      "[1, 2, 3, 4, 5, 6]\n",
      "清空后的列表： None\n"
     ]
    }
   ],
   "source": [
    "a = input(\"输入列表：\")\n",
    "l = [int(n) for n in a.split()]\n",
    "print(l)\n",
    "print(\"清空后的列表：\", l.clear())"
   ]
  },
  {
   "cell_type": "markdown",
   "id": "considered-arrival",
   "metadata": {},
   "source": [
    "## 44 复制列表"
   ]
  },
  {
   "cell_type": "code",
   "execution_count": 44,
   "id": "thrown-distribution",
   "metadata": {},
   "outputs": [
    {
     "name": "stdout",
     "output_type": "stream",
     "text": [
      "输入列表：1 2 3 4\n",
      "[1, 2, 3, 4]\n"
     ]
    }
   ],
   "source": [
    "a = input(\"输入列表：\")\n",
    "list1 = [int(n) for n in a.split()]\n",
    "list2 = list1\n",
    "print(list2)"
   ]
  },
  {
   "cell_type": "markdown",
   "id": "higher-persian",
   "metadata": {},
   "source": [
    "## 45 计算元素在列表中出现的次数"
   ]
  },
  {
   "cell_type": "code",
   "execution_count": 45,
   "id": "enormous-nigeria",
   "metadata": {},
   "outputs": [
    {
     "name": "stdout",
     "output_type": "stream",
     "text": [
      "输入列表：1 2 3 4 5 1\n",
      "输入想计算出现次数的元素：1\n",
      "2\n"
     ]
    }
   ],
   "source": [
    "a = input(\"输入列表：\")\n",
    "l = [int(n) for n in a.split()]\n",
    "x = int(input(\"输入想计算出现次数的元素：\"))\n",
    "print(l.count(x))"
   ]
  },
  {
   "cell_type": "markdown",
   "id": "capital-munich",
   "metadata": {},
   "source": [
    "## 46 计算列表元素之和"
   ]
  },
  {
   "cell_type": "code",
   "execution_count": 46,
   "id": "usual-accused",
   "metadata": {},
   "outputs": [
    {
     "name": "stdout",
     "output_type": "stream",
     "text": [
      "输入列表：1 2 3 4 5\n",
      "15\n"
     ]
    }
   ],
   "source": [
    "a = input(\"输入列表：\")\n",
    "l = [int(n) for n in a.split()]\n",
    "sum = 0\n",
    "for i in l:\n",
    "    sum+=i\n",
    "print(sum)"
   ]
  },
  {
   "cell_type": "markdown",
   "id": "fundamental-dylan",
   "metadata": {},
   "source": [
    "## 47 计算列表元素之积"
   ]
  },
  {
   "cell_type": "code",
   "execution_count": 47,
   "id": "ecological-banner",
   "metadata": {},
   "outputs": [
    {
     "name": "stdout",
     "output_type": "stream",
     "text": [
      "输入列表：1 2 3 4 5\n",
      "120\n"
     ]
    }
   ],
   "source": [
    "a = input(\"输入列表：\")\n",
    "l = [int(n) for n in a.split()]\n",
    "sum = 1\n",
    "for i in l:\n",
    "    sum*=i\n",
    "print(sum)"
   ]
  },
  {
   "cell_type": "markdown",
   "id": "progressive-atlanta",
   "metadata": {},
   "source": [
    "## 48 查找列表中最小元素"
   ]
  },
  {
   "cell_type": "code",
   "execution_count": 48,
   "id": "documentary-april",
   "metadata": {},
   "outputs": [
    {
     "name": "stdout",
     "output_type": "stream",
     "text": [
      "输入列表：2 3 4 12 5 1\n",
      "1\n"
     ]
    }
   ],
   "source": [
    "a = input(\"输入列表：\")\n",
    "l = [int(n) for n in a.split()]\n",
    "print(min(l))"
   ]
  },
  {
   "cell_type": "markdown",
   "id": "continent-crawford",
   "metadata": {},
   "source": [
    "## 49 查找列表中最大元素"
   ]
  },
  {
   "cell_type": "code",
   "execution_count": 49,
   "id": "purple-county",
   "metadata": {},
   "outputs": [
    {
     "name": "stdout",
     "output_type": "stream",
     "text": [
      "输入列表：1 3 4 6 2 7\n",
      "7\n"
     ]
    }
   ],
   "source": [
    "a = input(\"输入列表：\")\n",
    "l = [int(n) for n in a.split()]\n",
    "print(max(l))"
   ]
  },
  {
   "cell_type": "markdown",
   "id": "desperate-fisher",
   "metadata": {},
   "source": [
    "## 50 移除字符串中的指定位置字符"
   ]
  },
  {
   "cell_type": "code",
   "execution_count": 50,
   "id": "instrumental-quebec",
   "metadata": {},
   "outputs": [
    {
     "name": "stdout",
     "output_type": "stream",
     "text": [
      "输入字符串：excellent\n",
      "想移除的字符的位置：2\n",
      "exellent\n"
     ]
    }
   ],
   "source": [
    "s1 = input(\"输入字符串：\")\n",
    "i = int(input(\"想移除的字符的位置：\"))\n",
    "s2 = \"\"\n",
    "for j in range(0,len(s1)):\n",
    "    if(j!=i):\n",
    "        s2 = s2 + s1[j]\n",
    "print(s2)"
   ]
  },
  {
   "cell_type": "markdown",
   "id": "electronic-mineral",
   "metadata": {},
   "source": [
    "## 51 判断字符串是否存在子字符串"
   ]
  },
  {
   "cell_type": "code",
   "execution_count": 51,
   "id": "worthy-survival",
   "metadata": {},
   "outputs": [
    {
     "name": "stdout",
     "output_type": "stream",
     "text": [
      "输入字符串：abababa\n",
      "输入子字符串：aba\n",
      "存在\n"
     ]
    }
   ],
   "source": [
    "s1 = input(\"输入字符串：\")\n",
    "s2 = input(\"输入子字符串：\")\n",
    "if(s1.find(s2)!=-1):\n",
    "    print(\"存在\")\n",
    "else:\n",
    "    print(\"不存在\")"
   ]
  },
  {
   "cell_type": "markdown",
   "id": "billion-programming",
   "metadata": {},
   "source": [
    "## 52 判断字符串长度"
   ]
  },
  {
   "cell_type": "code",
   "execution_count": 52,
   "id": "extreme-finland",
   "metadata": {},
   "outputs": [
    {
     "name": "stdout",
     "output_type": "stream",
     "text": [
      "输入字符串：hello\n",
      "5\n"
     ]
    }
   ],
   "source": [
    "s = input(\"输入字符串：\")\n",
    "print(len(s))"
   ]
  },
  {
   "cell_type": "markdown",
   "id": "guilty-pastor",
   "metadata": {},
   "source": [
    "## 53 使用正则表达式提取字符串中的URL\n",
    "[python正则表达式](https://blog.csdn.net/qq_38929220/article/details/82115852)"
   ]
  },
  {
   "cell_type": "code",
   "execution_count": 53,
   "id": "constitutional-induction",
   "metadata": {},
   "outputs": [
    {
     "name": "stdout",
     "output_type": "stream",
     "text": [
      "['http://www.cskaoyan.com', 'https://www.runoob.com']\n"
     ]
    }
   ],
   "source": [
    "import re\n",
    "\n",
    "s = \"网页地址为：http://www.cskaoyan.com/和https://www.runoob.com/\"\n",
    "url = re.findall('https?://(?:[-\\w.]|(?:%[\\da-fA-F]{2}))+',s)\n",
    "print(url)"
   ]
  },
  {
   "cell_type": "markdown",
   "id": "boolean-affiliation",
   "metadata": {},
   "source": [
    "## 54 将字符串作为代码执行\n",
    "exec 执行储存在字符串或文件中的Python语句"
   ]
  },
  {
   "cell_type": "code",
   "execution_count": 54,
   "id": "duplicate-canvas",
   "metadata": {},
   "outputs": [
    {
     "name": "stdout",
     "output_type": "stream",
     "text": [
      "6\n"
     ]
    }
   ],
   "source": [
    "s = '''\n",
    "def max(a,b,c):\n",
    "    temp = a\n",
    "    if b>temp:\n",
    "        temp = b\n",
    "    if c>temp:\n",
    "        temp = c\n",
    "    return temp\n",
    "print(max(3,5,6))\n",
    "'''\n",
    "exec(s)"
   ]
  },
  {
   "cell_type": "markdown",
   "id": "brutal-biodiversity",
   "metadata": {},
   "source": [
    "## 55 字符串翻转"
   ]
  },
  {
   "cell_type": "code",
   "execution_count": 55,
   "id": "weird-sucking",
   "metadata": {},
   "outputs": [
    {
     "name": "stdout",
     "output_type": "stream",
     "text": [
      "输入字符串python\n",
      "nohtyp\n"
     ]
    }
   ],
   "source": [
    "s = input(\"输入字符串\")\n",
    "print(s[::-1])"
   ]
  },
  {
   "cell_type": "markdown",
   "id": "copyrighted-accent",
   "metadata": {},
   "source": [
    "## 56 对字符串切片及翻转"
   ]
  },
  {
   "cell_type": "code",
   "execution_count": 56,
   "id": "fabulous-constitution",
   "metadata": {},
   "outputs": [
    {
     "name": "stdout",
     "output_type": "stream",
     "text": [
      "输入字符串：python\n",
      "头部切片翻转 :  thonpy\n",
      "尾部切片翻转 :  onpyth\n"
     ]
    }
   ],
   "source": [
    "def rotate(s,d):\n",
    "    Lfirst = s[0 : d] \n",
    "    Lsecond = s[d :] \n",
    "    Rfirst = s[0 : len(s)-d] \n",
    "    Rsecond = s[len(s)-d : ] \n",
    "  \n",
    "    print( \"头部切片翻转 : \", (Lsecond + Lfirst) )\n",
    "    print( \"尾部切片翻转 : \", (Rsecond + Rfirst) )\n",
    " \n",
    "s = input(\"输入字符串：\")\n",
    "d=2  # 截取两个字符\n",
    "rotate(s,d)"
   ]
  },
  {
   "cell_type": "markdown",
   "id": "collaborative-reservation",
   "metadata": {},
   "source": [
    "## 57 按键(key)或值(value)对字典进行排序"
   ]
  },
  {
   "cell_type": "code",
   "execution_count": 57,
   "id": "inclusive-minnesota",
   "metadata": {},
   "outputs": [
    {
     "name": "stdout",
     "output_type": "stream",
     "text": [
      "按值(value)排序:\n",
      "[('Marry', 6), ('Mike', 8), ('John', 11), ('Alice', 14)]\n",
      "按键(key)排序:\n",
      "('Alice', 14) ('John', 11) ('Marry', 6) ('Mike', 8) "
     ]
    }
   ],
   "source": [
    "d = {'Mike':8, 'John':11, 'Marry':6,'Alice':14}\n",
    "\n",
    "print (\"按值(value)排序:\") \n",
    "print(sorted(d.items(), key = lambda i:(i[1], i[0])))\n",
    "\n",
    "print (\"按键(key)排序:\") \n",
    "for i in sorted (d) : \n",
    "        print ((i, d[i]), end =\" \") "
   ]
  },
  {
   "cell_type": "markdown",
   "id": "simple-arrow",
   "metadata": {},
   "source": [
    "## 58 计算字典值之和"
   ]
  },
  {
   "cell_type": "code",
   "execution_count": 58,
   "id": "drawn-water",
   "metadata": {},
   "outputs": [
    {
     "name": "stdout",
     "output_type": "stream",
     "text": [
      "39\n"
     ]
    }
   ],
   "source": [
    "d = {'Mike':8, 'John':11, 'Marry':6,'Alice':14}\n",
    "sum = 0\n",
    "for i in d:\n",
    "    sum+=d[i]\n",
    "print(sum)"
   ]
  },
  {
   "cell_type": "markdown",
   "id": "quick-reform",
   "metadata": {},
   "source": [
    "## 59 移除字典点键值(key/value)对"
   ]
  },
  {
   "cell_type": "code",
   "execution_count": 59,
   "id": "involved-officer",
   "metadata": {},
   "outputs": [
    {
     "name": "stdout",
     "output_type": "stream",
     "text": [
      "{'John': 11, 'Marry': 6, 'Alice': 14}\n"
     ]
    }
   ],
   "source": [
    "d = {'Mike':8, 'John':11, 'Marry':6,'Alice':14}\n",
    "del d['Mike']\n",
    "print(d)"
   ]
  },
  {
   "cell_type": "markdown",
   "id": "distant-nudist",
   "metadata": {},
   "source": [
    "## 60 合并字典"
   ]
  },
  {
   "cell_type": "code",
   "execution_count": 60,
   "id": "manual-honey",
   "metadata": {},
   "outputs": [
    {
     "name": "stdout",
     "output_type": "stream",
     "text": [
      "{'Marry': 6, 'Alice': 14, 'Mike': 8, 'John': 11}\n"
     ]
    }
   ],
   "source": [
    "d1 = {'Mike':8, 'John':11}\n",
    "d2 = {'Marry':6,'Alice':14}\n",
    "d2.update(d1)\n",
    "print(d2)"
   ]
  },
  {
   "cell_type": "markdown",
   "id": "horizontal-organic",
   "metadata": {},
   "source": [
    "## 61 将字符串的时间转换为时间戳"
   ]
  },
  {
   "cell_type": "code",
   "execution_count": 61,
   "id": "armed-courage",
   "metadata": {},
   "outputs": [
    {
     "name": "stdout",
     "output_type": "stream",
     "text": [
      "1611134454\n",
      "2021/01/20 17:20:54\n"
     ]
    }
   ],
   "source": [
    "import time\n",
    "\n",
    "s = \"2021-1-20 17:20:54\"\n",
    "# time.strptime(string[,format]):根据格式解析表示时间的字符串。\n",
    "timeArray = time.strptime(s, \"%Y-%m-%d %H:%M:%S\")\n",
    " \n",
    "# time.mktime()将struct_time类型的时间转换为时间戳类型\n",
    "timeStamp = int(time.mktime(timeArray))\n",
    "print(timeStamp)\n",
    "\n",
    "# time.strftime(format[,t])：将struct_time类型的时间转换为format参数指定格式的字符串。\n",
    "otherStyleTime = time.strftime(\"%Y/%m/%d %H:%M:%S\", timeArray)\n",
    "print(otherStyleTime)"
   ]
  },
  {
   "cell_type": "markdown",
   "id": "accepted-throat",
   "metadata": {},
   "source": [
    "## 62 获取几天前的时间"
   ]
  },
  {
   "cell_type": "code",
   "execution_count": 62,
   "id": "beautiful-toyota",
   "metadata": {},
   "outputs": [
    {
     "name": "stdout",
     "output_type": "stream",
     "text": [
      "输入想获取几天前的时间：3\n",
      "2021-01-26\n"
     ]
    }
   ],
   "source": [
    "import time\n",
    "import datetime\n",
    "\n",
    "today = datetime.date.today()\n",
    "d = int(input(\"输入想获取几天前的时间：\"))\n",
    "daytime = today - datetime.timedelta(days = d)\n",
    "print(daytime)"
   ]
  },
  {
   "cell_type": "markdown",
   "id": "french-positive",
   "metadata": {},
   "source": [
    "## 63 将时间戳转换为指定格式日期"
   ]
  },
  {
   "cell_type": "code",
   "execution_count": 63,
   "id": "prescribed-criterion",
   "metadata": {},
   "outputs": [
    {
     "name": "stdout",
     "output_type": "stream",
     "text": [
      "2021-01-29 18:13:33\n"
     ]
    }
   ],
   "source": [
    "import time\n",
    " \n",
    "# time.time()获得当前时间时间戳\n",
    "now = int(time.time())\n",
    "# time.localtime() 格式化时间戳为本地的时间\n",
    "timeArray = time.localtime(now)\n",
    "otherStyleTime = time.strftime(\"%Y-%m-%d %H:%M:%S\", timeArray)\n",
    "print(otherStyleTime)"
   ]
  },
  {
   "cell_type": "markdown",
   "id": "lyric-playback",
   "metadata": {},
   "source": [
    "## 64 打印自己设计的字体"
   ]
  },
  {
   "cell_type": "code",
   "execution_count": 77,
   "id": "departmental-foster",
   "metadata": {},
   "outputs": [
    {
     "name": "stdout",
     "output_type": "stream",
     "text": [
      "输入字符串: python\n",
      "  PPPPPP  \n",
      "  P    P  \n",
      "  PPPPPP   \n",
      "  P       \n",
      "  P       \n",
      "\n",
      "\n",
      "  Y    Y  \n",
      "   Y  Y   \n",
      "    YY     \n",
      "    YY    \n",
      "    YY    \n",
      "\n",
      "\n",
      "  TTTTTT  \n",
      "    TT    \n",
      "    TT     \n",
      "    TT    \n",
      "    TT    \n",
      "\n",
      "\n",
      "  H    H  \n",
      "  H    H  \n",
      "  HHHHHH   \n",
      "  H    H  \n",
      "  H    H  \n",
      "\n",
      "\n",
      "  OOOOOO  \n",
      "  O    O  \n",
      "  O    O   \n",
      "  O    O  \n",
      "  OOOOOO  \n",
      "\n",
      "\n",
      "  N    N  \n",
      "  NN   N  \n",
      "  N N  N   \n",
      "  N  N N  \n",
      "  N   NN  \n",
      "\n",
      "\n"
     ]
    }
   ],
   "source": [
    "s = input(\"输入字符串: \") \n",
    "  \n",
    "length = len(s) \n",
    "l = \"\" \n",
    "  \n",
    "for x in range(0, length): \n",
    "    c = s[x] \n",
    "    c = c.upper() \n",
    "      \n",
    "    if (c == \"A\"): \n",
    "        print(\"     A     \\n   A   A   \\n  A A A A  \", end = \" \") \n",
    "        print(\"\\n A       A \\nA         A\\n\") \n",
    "          \n",
    "    elif (c == \"B\"): \n",
    "        print(\"  BBBBBB  \\n  B    B  \\n  BBBBB   \", end = \" \") \n",
    "        print(\"\\n  B    B  \\n  BBBBBB  \\n\\n\") \n",
    "    elif (c == \"C\"): \n",
    "        print(\"  CCCCCC  \\n  C        \\n  C       \", end = \" \") \n",
    "        print(\"\\n  C       \\n  CCCCCC  \\n\\n\") \n",
    "          \n",
    "    elif (c == \"D\"): \n",
    "        print(\"  DDDDD   \\n  D    D  \\n  D    D  \", end = \" \") \n",
    "        print(\"\\n  D    D  \\n  DDDDD   \\n\\n\") \n",
    "          \n",
    "    elif (c == \"E\"): \n",
    "        print(\"  EEEEEE  \\n  E       \\n  EEEEE   \", end = \" \") \n",
    "        print(\"\\n  E       \\n  EEEEEE  \\n\\n\") \n",
    "          \n",
    "    elif (c == \"F\"): \n",
    "        print(\"  FFFFF  \\n  F       \\n  FFFFF  \", end = \" \") \n",
    "        print(\"\\n  F       \\n  F       \\n\\n\") \n",
    "          \n",
    "    elif (c == \"G\"): \n",
    "        print(\"  GGGGG   \\n  G       \\n  G GGGG  \", end = \" \") \n",
    "        print(\"\\n  G    G  \\n  GGGGG   \\n\\n\") \n",
    "          \n",
    "    elif (c == \"H\"): \n",
    "        print(\"  H    H  \\n  H    H  \\n  HHHHHH  \", end = \" \") \n",
    "        print(\"\\n  H    H  \\n  H    H  \\n\\n\") \n",
    "          \n",
    "    elif (c == \"I\"): \n",
    "        print(\"  IIIIII  \\n    II    \\n    II    \", end = \" \") \n",
    "        print(\"\\n    II    \\n  IIIIII  \\n\\n\") \n",
    "          \n",
    "    elif (c == \"J\"): \n",
    "        print(\"  JJJJJJ  \\n    JJ    \\n    JJ    \", end = \" \") \n",
    "        print(\"\\n  J JJ    \\n  JJJJ    \\n\\n\") \n",
    "          \n",
    "    elif (c == \"K\"): \n",
    "        print(\"  K   K   \\n  K  K    \\n  KK      \", end = \" \") \n",
    "        print(\"\\n  K  K    \\n  K   K   \\n\\n\") \n",
    "          \n",
    "    elif (c == \"L\"): \n",
    "        print(\"  L       \\n  L       \\n  L       \", end = \" \") \n",
    "        print(\"\\n  L       \\n  LLLLLL  \\n\\n\") \n",
    "          \n",
    "    elif (c == \"M\"): \n",
    "        print(\"  M    M  \\n  MM  MM  \\n  M MM M  \", end = \" \") \n",
    "        print(\"\\n  M    M  \\n  M    M  \\n\\n\") \n",
    "          \n",
    "    elif (c == \"N\"): \n",
    "        print(\"  N    N  \\n  NN   N  \\n  N N  N  \", end = \" \") \n",
    "        print(\"\\n  N  N N  \\n  N   NN  \\n\\n\") \n",
    "          \n",
    "    elif (c == \"O\"): \n",
    "        print(\"  OOOOOO  \\n  O    O  \\n  O    O  \", end = \" \") \n",
    "        print(\"\\n  O    O  \\n  OOOOOO  \\n\\n\") \n",
    "          \n",
    "    elif (c == \"P\"): \n",
    "        print(\"  PPPPPP  \\n  P    P  \\n  PPPPPP  \", end = \" \") \n",
    "        print(\"\\n  P       \\n  P       \\n\\n\") \n",
    "          \n",
    "    elif (c == \"Q\"): \n",
    "        print(\"  QQQQQQ  \\n  Q    Q  \\n  Q Q  Q  \", end = \" \") \n",
    "        print(\"\\n  Q  Q Q  \\n  QQQQQQ  \\n\\n\") \n",
    "          \n",
    "    elif (c == \"R\"): \n",
    "        print(\"  RRRRRR  \\n  R    R  \\n  R RR   \", end = \" \") \n",
    "        print(\"\\n  R   R   \\n  R    R  \\n\\n\") \n",
    "          \n",
    "    elif (c == \"S\"): \n",
    "        print(\"  SSSSSS  \\n  S       \\n  SSSSSS  \", end = \" \") \n",
    "        print(\"\\n       S  \\n  SSSSSS  \\n\\n\") \n",
    "          \n",
    "    elif (c == \"T\"): \n",
    "        print(\"  TTTTTT  \\n    TT    \\n    TT    \", end = \" \") \n",
    "        print(\"\\n    TT    \\n    TT    \\n\\n\") \n",
    "          \n",
    "    elif (c == \"U\"): \n",
    "        print(\"  U    U  \\n  U    U  \\n  U    U  \", end = \" \") \n",
    "        print(\"\\n  U    U  \\n  UUUUUU  \\n\\n\") \n",
    "          \n",
    "    elif (c == \"V\"): \n",
    "        print(\"V       V\\n V     V \\n  V   V  \", end = \" \") \n",
    "        print(\"\\n   V V   \\n    V    \\n\\n\") \n",
    "          \n",
    "    elif (c == \"W\"): \n",
    "        print(\"  W    W  \\n  W    W  \\n  W WW W  \", end = \" \") \n",
    "        print(\"\\n  WW  WW  \\n  W    W  \\n\\n\") \n",
    "          \n",
    "    elif (c == \"X\"): \n",
    "        print(\"  X    X  \\n   X  X   \\n    XX    \", end = \" \") \n",
    "        print(\"\\n   X  X   \\n  X    X  \\n\\n\") \n",
    "          \n",
    "    elif (c == \"Y\"): \n",
    "        print(\"  Y    Y  \\n   Y  Y   \\n    YY    \", end = \" \") \n",
    "        print(\"\\n    YY    \\n    YY    \\n\\n\") \n",
    "          \n",
    "    elif (c == \"Z\"): \n",
    "        print(\"  ZZZZZZ  \\n      Z   \\n     Z    \", end = \" \") \n",
    "        print(\"\\n    Z     \\n  ZZZZZZ  \\n\\n\") \n",
    "          \n",
    "    elif (c == \" \"): \n",
    "        print(\"..........\\n..........\\n..........\", end = \" \") \n",
    "        print(\"\\n..........\\n\\n\") \n",
    "          \n",
    "    elif (c == \".\"): \n",
    "        print(\"    .    \\n\\n\")"
   ]
  },
  {
   "cell_type": "markdown",
   "id": "million-infrared",
   "metadata": {},
   "source": [
    "## 65 二分查找"
   ]
  },
  {
   "cell_type": "code",
   "execution_count": 65,
   "id": "urban-mounting",
   "metadata": {},
   "outputs": [
    {
     "name": "stdout",
     "output_type": "stream",
     "text": [
      "4\n",
      "None\n"
     ]
    }
   ],
   "source": [
    "def binary_search(l, item):\n",
    "    low = 0\n",
    "    high = len(l)-1\n",
    "    \n",
    "    while low<=high:\n",
    "        mid = (low+high)//2\n",
    "        if l[mid] == item:\n",
    "            return mid\n",
    "        elif l[mid]<item:\n",
    "            high = mid-1\n",
    "        else:\n",
    "            low = mid+1\n",
    "    return None # 没有找到\n",
    "\n",
    "l = [1,2,3,4,5,6,7,8,9,10]\n",
    "print(binary_search(l,5)) # 下标从0开始\n",
    "print(binary_search(l,11))"
   ]
  },
  {
   "cell_type": "markdown",
   "id": "dress-printer",
   "metadata": {},
   "source": [
    "## 66 线性查找"
   ]
  },
  {
   "cell_type": "code",
   "execution_count": 78,
   "id": "rural-consumer",
   "metadata": {},
   "outputs": [
    {
     "name": "stdout",
     "output_type": "stream",
     "text": [
      "输入想查找的数：4\n",
      "4 在位置 3\n"
     ]
    }
   ],
   "source": [
    "l = [1,2,3,4,5,6,7,8,9,10]\n",
    "x = int(input(\"输入想查找的数：\"))\n",
    "flag = 1\n",
    "for i in range(0,len(l)):\n",
    "    if x == l[i]:\n",
    "        flag = 0\n",
    "        print(x,\"在位置\",i)\n",
    "        break\n",
    "        \n",
    "if flag == 1:\n",
    "    print(\"没有找到\")"
   ]
  },
  {
   "cell_type": "markdown",
   "id": "conceptual-illustration",
   "metadata": {},
   "source": [
    "## 67 插入排序"
   ]
  },
  {
   "cell_type": "code",
   "execution_count": 67,
   "id": "underlying-society",
   "metadata": {},
   "outputs": [
    {
     "name": "stdout",
     "output_type": "stream",
     "text": [
      "[1, 4, 5, 6, 9, 12]\n"
     ]
    }
   ],
   "source": [
    "# 在列表前端维护一个有序的子列表，并逐个将新元素插入这个子列表\n",
    "\n",
    "def insertionSort(l):\n",
    "    for i in range(1,len(l)):\n",
    "        temp = l[i]\n",
    "        pos = i\n",
    "        while pos>0 and l[pos-1]>temp:\n",
    "            l[pos] = l[pos-1]\n",
    "            pos-=1\n",
    "        l[pos] = temp\n",
    "        \n",
    "l = [4,9,5,12,1,6]\n",
    "insertionSort(l)\n",
    "print(l)"
   ]
  },
  {
   "cell_type": "markdown",
   "id": "passing-sierra",
   "metadata": {},
   "source": [
    "## 68 快速排序"
   ]
  },
  {
   "cell_type": "code",
   "execution_count": 68,
   "id": "stone-customs",
   "metadata": {},
   "outputs": [
    {
     "name": "stdout",
     "output_type": "stream",
     "text": [
      "[1, 4, 5, 6, 9, 12]\n"
     ]
    }
   ],
   "source": [
    "def partition(l, first, last):\n",
    "    # 选基准\n",
    "    privot = l[first]\n",
    "    left = first+1\n",
    "    right = last\n",
    "    flag = True\n",
    "    while flag:\n",
    "        # left等于左边第一个大于基准的元素\n",
    "        while left<=right and l[left]<=privot:\n",
    "            left = left+1\n",
    "        # right等于右边第一个小于基准的元素\n",
    "        while left<=right and l[right]>=privot:\n",
    "            right = right-1\n",
    "        #\n",
    "        if right<left:\n",
    "            flag = False\n",
    "        else:\n",
    "            # 将大于基准的元素换到右边，小于基准的元素换到左边\n",
    "            temp = l[left]\n",
    "            l[left] = l[right]\n",
    "            l[right] = temp\n",
    "    # 将基准和小于基准的元素交换\n",
    "    temp = l[first]\n",
    "    l[first] = l[right]\n",
    "    l[right] = temp\n",
    "    # 返回基准的位置\n",
    "    return right\n",
    "    \n",
    "def quickSort(l, first, last):\n",
    "    if first<last:\n",
    "        p = partition(l, first, last)\n",
    "        quickSort(l, first, p-1)\n",
    "        quickSort(l, p+1, last)\n",
    "        \n",
    "\n",
    "l = [4,9,5,12,1,6]\n",
    "quickSort(l,0,len(l)-1)\n",
    "print(l)    "
   ]
  },
  {
   "cell_type": "markdown",
   "id": "alpine-cleaners",
   "metadata": {},
   "source": [
    "## 69 选择排序"
   ]
  },
  {
   "cell_type": "code",
   "execution_count": 69,
   "id": "national-virus",
   "metadata": {},
   "outputs": [
    {
     "name": "stdout",
     "output_type": "stream",
     "text": [
      "[1, 4, 5, 6, 9, 12]\n"
     ]
    }
   ],
   "source": [
    "# 每次遍历时寻找最大值，将其放在正确的位置上\n",
    "\n",
    "def selectionSort(l):\n",
    "    for i in range(len(l)-1,0,-1):\n",
    "        m = 0\n",
    "        for j in range(1,i+1):\n",
    "            if l[j]>l[m]:\n",
    "                m = j\n",
    "        \n",
    "        temp = l[i]\n",
    "        l[i] = l[m]\n",
    "        l[m] = temp\n",
    "        \n",
    "l = [4,9,5,12,1,6]\n",
    "selectionSort(l)\n",
    "print(l)"
   ]
  },
  {
   "cell_type": "markdown",
   "id": "assisted-exemption",
   "metadata": {},
   "source": [
    "## 70 冒泡排序"
   ]
  },
  {
   "cell_type": "code",
   "execution_count": 70,
   "id": "material-algeria",
   "metadata": {},
   "outputs": [
    {
     "name": "stdout",
     "output_type": "stream",
     "text": [
      "[1, 4, 5, 6, 9, 12]\n"
     ]
    }
   ],
   "source": [
    "# 比较相邻的元素，将不合适的交换\n",
    "\n",
    "def bubbleSort(l):\n",
    "    flag = 1 # 记录这趟遍历是否发生交换\n",
    "    num = len(l)-1\n",
    "    while num>0 and flag:\n",
    "        flag = 0\n",
    "        for i in range(num):\n",
    "            if l[i]>l[i+1]:\n",
    "                flag = 1\n",
    "                temp = l[i]\n",
    "                l[i] = l[i+1]\n",
    "                l[i+1] = temp\n",
    "        num-=1\n",
    "        \n",
    "l = [4,9,5,12,1,6]\n",
    "bubbleSort(l)\n",
    "print(l)"
   ]
  },
  {
   "cell_type": "markdown",
   "id": "sunrise-granny",
   "metadata": {},
   "source": [
    "## 71 归并排序"
   ]
  },
  {
   "cell_type": "code",
   "execution_count": 71,
   "id": "formed-accessory",
   "metadata": {},
   "outputs": [
    {
     "name": "stdout",
     "output_type": "stream",
     "text": [
      "[1, 4, 5, 6, 9, 12]\n"
     ]
    }
   ],
   "source": [
    "# 将列表一分为二，如果列表为空或只有一个元素认为它有序，否则继续将列表一分为二，递归，当两部分都有序后将列表合并\n",
    "\n",
    "def mergeSort(l):\n",
    "    if len(l)>1:\n",
    "        mid = len(l)//2\n",
    "        leftlist = l[:mid]\n",
    "        rightlist = l[mid:]\n",
    "        \n",
    "        mergeSort(leftlist)\n",
    "        mergeSort(rightlist)\n",
    "        \n",
    "        # 归并\n",
    "        i,j,k = 0,0,0\n",
    "        while i<len(leftlist) and j<len(rightlist):\n",
    "            if leftlist[i]<rightlist[j]:\n",
    "                l[k] = leftlist[i]\n",
    "                i+=1\n",
    "            else:\n",
    "                l[k] = rightlist[j]\n",
    "                j+=1\n",
    "            k+=1\n",
    "        while i<len(leftlist):\n",
    "            l[k] = leftlist[i]\n",
    "            i+=1\n",
    "            k+=1\n",
    "        while j<len(rightlist):\n",
    "            l[k] = rightlist[j]\n",
    "            j+=1\n",
    "            k+=1\n",
    "            \n",
    "l = [4,9,5,12,1,6]\n",
    "mergeSort(l)\n",
    "print(l)"
   ]
  },
  {
   "cell_type": "markdown",
   "id": "iraqi-courage",
   "metadata": {},
   "source": [
    "## 72 堆排序"
   ]
  },
  {
   "cell_type": "code",
   "execution_count": 72,
   "id": "isolated-reach",
   "metadata": {},
   "outputs": [
    {
     "name": "stdout",
     "output_type": "stream",
     "text": [
      "[1, 4, 5, 6, 9, 12]\n"
     ]
    }
   ],
   "source": [
    "# 根节点的值总是大于/小于它的子节点\n",
    "\n",
    "def heapify(l, n, i): \n",
    "    largest = i  \n",
    "    left = 2*i + 1 \n",
    "    right = 2*i + 2 \n",
    "  \t\n",
    "  \t# 得到较大元素的下标\n",
    "    if left < n and l[i] < l[left]: \n",
    "        largest = left  \n",
    "    if right < n and l[largest] < l[right]: \n",
    "        largest = right\n",
    "  \n",
    "    if largest != i: \n",
    "        l[i],l[largest] = l[largest],l[i]  # 交换  \n",
    "        heapify(l, n, largest) \n",
    "\n",
    "def heapSort(l): \n",
    "    n = len(l) \n",
    "  \n",
    "    # 构建大根堆\n",
    "    for i in range(n, -1, -1): \n",
    "        heapify(l, n, i) \n",
    "  \n",
    "    # 交换元素\n",
    "    for i in range(n-1, 0, -1): \n",
    "        l[i], l[0] = l[0], l[i] # 和堆底元素交换\n",
    "        heapify(l, i, 0)\n",
    "        \n",
    "l = [4,9,5,12,1,6]\n",
    "heapSort(l)\n",
    "print(l)"
   ]
  },
  {
   "cell_type": "markdown",
   "id": "entitled-preparation",
   "metadata": {},
   "source": [
    "## 73 计数排序"
   ]
  },
  {
   "cell_type": "code",
   "execution_count": 73,
   "id": "unlike-parameter",
   "metadata": {},
   "outputs": [
    {
     "name": "stdout",
     "output_type": "stream",
     "text": [
      "..123[]bcmnoooruwww\n"
     ]
    }
   ],
   "source": [
    "# 统计每个数比列表其他数大的次数，次数越多说明这个数越大，反之说明这个数就越小。\n",
    "\n",
    "def countSort(l):\n",
    "    output = [0 for i in range(256)]  \n",
    "    count = [0 for i in range(256)]  \n",
    "    ans = [\"\" for _ in l]\n",
    "  \n",
    "    for i in l: \n",
    "        count[ord(i)] += 1\n",
    "        \n",
    "    # 对每一个元素，确定出小于它的元素个数 \n",
    "    for i in range(256): \n",
    "        count[i] += count[i-1]\n",
    "        \n",
    "    # 遍历计数列表，依次在新列表中添加对应数量的元素。添加后计数列表中减掉对应的数量。\n",
    "    for i in range(len(l)): \n",
    "        output[count[ord(l[i])]-1] = l[i] \n",
    "        count[ord(l[i])] -= 1\n",
    "  \n",
    "    for i in range(len(l)): \n",
    "        ans[i] = output[i]\n",
    "            \n",
    "    return ans\n",
    "\n",
    "l = \"www.runoob.com123[]\"\n",
    "ans = countSort(l) \n",
    "print(\"\".join(ans))"
   ]
  },
  {
   "cell_type": "markdown",
   "id": "federal-begin",
   "metadata": {},
   "source": [
    "## 74  希尔排序"
   ]
  },
  {
   "cell_type": "code",
   "execution_count": 74,
   "id": "destroyed-float",
   "metadata": {},
   "outputs": [
    {
     "name": "stdout",
     "output_type": "stream",
     "text": [
      "[1, 4, 5, 6, 9, 12]\n"
     ]
    }
   ],
   "source": [
    "# 将列表分成数个子列表，对每一个子列表进行插入排序\n",
    "\n",
    "def shellSort(l):\n",
    "    step = len(l)//2  # 步长\n",
    "    while step>0:\n",
    "        for start in range(step):\n",
    "            for i in range(start+step,len(l),step):\n",
    "                temp = l[i]\n",
    "                pos = i                \n",
    "                while pos>=step and l[pos-step]>temp:\n",
    "                    l[pos] = l[pos-step]\n",
    "                    pos = pos-step\n",
    "                l[pos] = temp\n",
    "        \n",
    "        step = step//2\n",
    "        \n",
    "l = [4,9,5,12,1,6]\n",
    "shellSort(l)\n",
    "print(l)"
   ]
  },
  {
   "cell_type": "markdown",
   "id": "quality-harvard",
   "metadata": {},
   "source": [
    "## 75 拓扑排序"
   ]
  },
  {
   "cell_type": "code",
   "execution_count": 75,
   "id": "stock-friend",
   "metadata": {},
   "outputs": [
    {
     "name": "stdout",
     "output_type": "stream",
     "text": [
      "['a', 'e', 'd', 'c', 'b', 'f']\n"
     ]
    }
   ],
   "source": [
    "# 拓扑排序是对深度优先搜索的改进\n",
    "# graph = {'u':'v'}\n",
    "def topoSort(graph):     \n",
    "    in_degrees = dict((u,0) for u in graph)   #初始化顶点入度为0     \n",
    "    num = len(in_degrees)     \n",
    "    for u in graph:         \n",
    "        for v in graph[u]:             \n",
    "            in_degrees[v] += 1    #计算每个顶点的入度     \n",
    "    Q = [u for u in in_degrees if in_degrees[u] == 0]   # 筛选入度为0的顶点     \n",
    "    seq = []     \n",
    "    while Q:         \n",
    "        u = Q.pop()   \n",
    "        seq.append(u)         \n",
    "        for v in graph[u]:             \n",
    "            in_degrees[v] -= 1    #移除其所有出边\n",
    "            if in_degrees[v] == 0:        \n",
    "                Q.append(v)          #再次筛选入度为0的顶点\n",
    "    if len(seq) == num:       #输出的顶点数是否与图中的顶点数相等\n",
    "        return seq     \n",
    "    else:         \n",
    "        return None\n",
    "    \n",
    "graph = {'a':'bce', 'b':'f', 'c':'', 'd':'', 'e':'df','f':''}\n",
    "print(topoSort(graph))"
   ]
  },
  {
   "cell_type": "code",
   "execution_count": null,
   "id": "specified-ridge",
   "metadata": {},
   "outputs": [],
   "source": []
  }
 ],
 "metadata": {
  "kernelspec": {
   "display_name": "Python 3",
   "language": "python",
   "name": "python3"
  },
  "language_info": {
   "codemirror_mode": {
    "name": "ipython",
    "version": 3
   },
   "file_extension": ".py",
   "mimetype": "text/x-python",
   "name": "python",
   "nbconvert_exporter": "python",
   "pygments_lexer": "ipython3",
   "version": "3.8.7"
  }
 },
 "nbformat": 4,
 "nbformat_minor": 5
}
